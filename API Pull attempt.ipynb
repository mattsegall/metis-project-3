{
 "cells": [
  {
   "cell_type": "code",
   "execution_count": 93,
   "id": "lesser-demographic",
   "metadata": {},
   "outputs": [],
   "source": [
    "import spotipy\n",
    "from spotipy.oauth2 import SpotifyClientCredentials\n",
    "import json\n",
    "import pandas as pd\n",
    "import time"
   ]
  },
  {
   "cell_type": "code",
   "execution_count": 19,
   "id": "cutting-champagne",
   "metadata": {},
   "outputs": [],
   "source": [
    "#initialize connection to spotify API\n",
    "\n",
    "cid='66e8d1ba9950407db6d01d6c1bc6ecfd'\n",
    "secret='c1f9f5ebaec249c0bee32fc1d127454b'\n",
    "\n",
    "client_credentials_manager = SpotifyClientCredentials(client_id=cid, client_secret=secret)\n",
    "sp = spotipy.Spotify(client_credentials_manager=client_credentials_manager)\n",
    "sp.trace = False"
   ]
  },
  {
   "cell_type": "code",
   "execution_count": 146,
   "id": "extreme-recycling",
   "metadata": {},
   "outputs": [],
   "source": [
    "#sample from spotify-generated playlists\n",
    "def getTrackIDs(user, playlist_id):\n",
    "    track_ids = []\n",
    "    playlist = sp.user_playlist(user, playlist_id)\n",
    "    for item in playlist['tracks']['items']:\n",
    "        track = item['track']\n",
    "        track_ids.append(track['id'])\n",
    "    return track_ids"
   ]
  },
  {
   "cell_type": "code",
   "execution_count": 176,
   "id": "nutritional-victory",
   "metadata": {},
   "outputs": [],
   "source": [
    "track_ids = getTrackIDs('Spotify', 'spotify:playlist:37i9dQZF1DX4SrOBCjlfVi')"
   ]
  },
  {
   "cell_type": "code",
   "execution_count": 147,
   "id": "quiet-binding",
   "metadata": {},
   "outputs": [],
   "source": [
    "def getTrackFeatures(id):\n",
    "    track_info = sp.track(id)\n",
    "    features_info = sp.audio_features(id)\n",
    "\n",
    "#track metadata\n",
    "    name = track_info['name']\n",
    "    album = track_info['album']['name']\n",
    "    artist = track_info['album']['artists'][0]['name']\n",
    "    release_date = track_info['album']['release_date']\n",
    "    length = track_info['duration_ms']\n",
    "    popularity = track_info['popularity']\n",
    "    \n",
    "#mostly spotify proprietary audio features\n",
    "    danceability = features_info[0]['danceability']\n",
    "    energy = features_info[0]['energy']\n",
    "    key = features_info[0]['key']\n",
    "    loudness = features_info[0]['loudness']\n",
    "    mode = features_info[0]['mode']\n",
    "    speechiness = features_info[0]['speechiness']\n",
    "    acousticness = features_info[0]['acousticness']\n",
    "    instrumentalness = features_info[0]['instrumentalness']\n",
    "    liveness = features_info[0]['liveness']\n",
    "    valence = features_info[0]['valence']\n",
    "    tempo = features_info[0]['tempo']\n",
    "    time_signature = features_info[0]['time_signature']\n",
    "\n",
    "    track_data = [name, album, artist, release_date, length, popularity, danceability, energy, \n",
    "                  key, loudness, mode, speechiness, acousticness, instrumentalness, liveness, \n",
    "                  valence, tempo, time_signature]\n",
    "    \n",
    "    return track_data"
   ]
  },
  {
   "cell_type": "code",
   "execution_count": 169,
   "id": "pressing-disclaimer",
   "metadata": {},
   "outputs": [
    {
     "data": {
      "text/plain": [
       "['Life I Live',\n",
       " 'Life I Live',\n",
       " 'Yungeen Ace',\n",
       " '2021-01-22',\n",
       " 152019,\n",
       " 48,\n",
       " 0.631,\n",
       " 0.806,\n",
       " 9,\n",
       " -5.951,\n",
       " 0,\n",
       " 0.383,\n",
       " 0.011,\n",
       " 0,\n",
       " 0.695,\n",
       " 0.479,\n",
       " 119.69,\n",
       " 5]"
      ]
     },
     "execution_count": 169,
     "metadata": {},
     "output_type": "execute_result"
    }
   ],
   "source": [
    "track_data = getTrackFeatures('1kyG3F7hgVNnU3MqKfDGvM')\n",
    "track_data"
   ]
  },
  {
   "cell_type": "code",
   "execution_count": 175,
   "id": "elementary-satellite",
   "metadata": {},
   "outputs": [],
   "source": [
    "def get_dfs(track_ids):\n",
    "    track_data_list = []\n",
    "    for i in range(len(track_ids)):\n",
    "        time.sleep(.1)\n",
    "        try:\n",
    "            track_data = getTrackFeatures(track_ids[i])\n",
    "            track_data_list.append(track_data)\n",
    "        except:\n",
    "            pass\n",
    "\n",
    "        df =  pd.DataFrame(track_data_list, columns = ['name', 'album', 'artist', 'release_date', 'length', 'popularity', \n",
    "                                                                     'danceability', 'energy', 'key', 'loudness', 'mode', 'speechiness', \n",
    "                                                                     'acousticness', 'instrumentalness', 'liveness', 'valence', 'tempo',\n",
    "                                                                     'time_signature'])\n",
    "    return df"
   ]
  },
  {
   "cell_type": "code",
   "execution_count": 179,
   "id": "surprised-worcester",
   "metadata": {},
   "outputs": [],
   "source": [
    "#make list of playlists for each genre"
   ]
  },
  {
   "cell_type": "code",
   "execution_count": null,
   "id": "australian-registration",
   "metadata": {},
   "outputs": [],
   "source": [
    "#loop through getting track IDs for each list of playlists"
   ]
  },
  {
   "cell_type": "code",
   "execution_count": null,
   "id": "english-consultancy",
   "metadata": {},
   "outputs": [],
   "source": [
    "#get df and name"
   ]
  },
  {
   "cell_type": "code",
   "execution_count": null,
   "id": "continued-carol",
   "metadata": {},
   "outputs": [],
   "source": [
    "#SQLize"
   ]
  },
  {
   "cell_type": "code",
   "execution_count": null,
   "id": "honest-district",
   "metadata": {},
   "outputs": [],
   "source": []
  },
  {
   "cell_type": "code",
   "execution_count": null,
   "id": "induced-connectivity",
   "metadata": {},
   "outputs": [],
   "source": []
  },
  {
   "cell_type": "code",
   "execution_count": null,
   "id": "honest-laser",
   "metadata": {},
   "outputs": [],
   "source": []
  },
  {
   "cell_type": "code",
   "execution_count": null,
   "id": "aware-gentleman",
   "metadata": {},
   "outputs": [],
   "source": []
  }
 ],
 "metadata": {
  "kernelspec": {
   "display_name": "Python [conda env:metis] *",
   "language": "python",
   "name": "conda-env-metis-py"
  },
  "language_info": {
   "codemirror_mode": {
    "name": "ipython",
    "version": 3
   },
   "file_extension": ".py",
   "mimetype": "text/x-python",
   "name": "python",
   "nbconvert_exporter": "python",
   "pygments_lexer": "ipython3",
   "version": "3.8.6"
  }
 },
 "nbformat": 4,
 "nbformat_minor": 5
}
